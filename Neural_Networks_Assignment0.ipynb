{
 "cells": [
  {
   "cell_type": "code",
   "execution_count": 1,
   "id": "talented-profession",
   "metadata": {},
   "outputs": [
    {
     "name": "stdout",
     "output_type": "stream",
     "text": [
      "[[ 6.6 -1.8  0.  ...  0.   0.   0. ]\n",
      " [-1.8  6.6 -1.8 ...  0.   0.   0. ]\n",
      " [ 0.  -1.8  6.6 ...  0.   0.   0. ]\n",
      " ...\n",
      " [ 0.   0.   0.  ...  6.6 -1.8  0. ]\n",
      " [ 0.   0.   0.  ... -1.8  6.6 -1.8]\n",
      " [ 0.   0.   0.  ...  0.  -1.8  6.6]]\n"
     ]
    }
   ],
   "source": [
    "#Want to first create the two submatrices then build the bigger matrix out of them.\n",
    "from numpy import *\n",
    "n=100\n",
    "set_printoptions(linewidth=500)\n",
    "A_tri = zeros((n,n))\n",
    "for i in arange(n):\n",
    "    A_tri[i,i]=6.6\n",
    "    if i<n-1:\n",
    "        A_tri[i,i+1]=-1.8\n",
    "    if i>0:\n",
    "        A_tri[i,i-1]=-1.8\n",
    "A_off = -1.5*eye(n,n)\n",
    "#Now want to put A_tri on the main diagonal blocks of A and A_off on all the off diagonal blocks of A\n",
    "A = zeros((n*n,n*n))\n",
    "for j in arange(0,n*n,n):\n",
    "    A[j:j+n,j:j+n] = A_tri\n",
    "    if j/n<n-1:\n",
    "        A[j:j+n,j+n:j+2*n]=A_off\n",
    "    if j/n>0:\n",
    "        A[j:j+n,j-n:j]=A_off\n",
    "print(A)\n",
    "x=ones((n*n,1))\n",
    "#Calculate Ax=y\n",
    "y=dot(A,x)"
   ]
  },
  {
   "cell_type": "code",
   "execution_count": 2,
   "id": "social-darwin",
   "metadata": {
    "scrolled": true
   },
   "outputs": [
    {
     "name": "stdout",
     "output_type": "stream",
     "text": [
      "Time for LU: 17.72050714492798\n",
      "uLU= [[1. 1. 1. ... 1. 1. 1.]]\n",
      "uLU-x= [[-1.11022302e-16 -1.11022302e-16 -3.33066907e-16 ...  0.00000000e+00  0.00000000e+00  0.00000000e+00]]\n",
      "Norm: 4.113013857137209e-13\n"
     ]
    }
   ],
   "source": [
    "#We now wish to solve this using both an LU Decomposition and a Conjugate Gradient (e-8 tolerance)\n",
    "import time as t\n",
    "t0=t.time()\n",
    "uLU=linalg.solve(A,y)\n",
    "print('Time for LU: {}'.format(t.time()-t0))\n",
    "print('uLU=',uLU.T)\n",
    "print(\"uLU-x=\",(uLU-x).T)\n",
    "print(\"Norm:\",linalg.norm(uLU-x))"
   ]
  },
  {
   "cell_type": "code",
   "execution_count": 7,
   "id": "collect-copying",
   "metadata": {},
   "outputs": [
    {
     "name": "stdout",
     "output_type": "stream",
     "text": [
      "Time for CG: 11.819343090057373\n",
      "uCG= [1. 1. 1. ... 1. 1. 1.]\n",
      "uCG-x= [[1.08412723e-09 1.84972637e-09 1.57640478e-09 ... 1.57640501e-09 1.84972593e-09 1.08412768e-09]]\n",
      "Norm: 1.0724965836593363e-06\n"
     ]
    }
   ],
   "source": [
    "#Test conjugate gradient\n",
    "import time as t\n",
    "from scipy.sparse.linalg import cg\n",
    "t1 = t.time()\n",
    "uCG,info=cg(A,y,tol=1e-8)\n",
    "print('Time for CG: {}'.format(t.time()-t1))\n",
    "print(\"uCG=\",uCG)\n",
    "print(\"uCG-x=\",uCG-x.T)\n",
    "print(\"Norm:\",linalg.norm(uCG-x.T))"
   ]
  },
  {
   "cell_type": "code",
   "execution_count": null,
   "id": "published-clark",
   "metadata": {},
   "outputs": [],
   "source": []
  }
 ],
 "metadata": {
  "kernelspec": {
   "display_name": "Python 3",
   "language": "python",
   "name": "python3"
  },
  "language_info": {
   "codemirror_mode": {
    "name": "ipython",
    "version": 3
   },
   "file_extension": ".py",
   "mimetype": "text/x-python",
   "name": "python",
   "nbconvert_exporter": "python",
   "pygments_lexer": "ipython3",
   "version": "3.9.2"
  }
 },
 "nbformat": 4,
 "nbformat_minor": 5
}
